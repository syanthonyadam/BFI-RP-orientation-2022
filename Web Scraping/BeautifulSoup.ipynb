{
 "cells": [
  {
   "cell_type": "markdown",
   "id": "c3cf2d8d",
   "metadata": {},
   "source": [
    "# Extracting Data from Websites\n",
    "\n",
    "## What is Web Scraping?\n",
    "\n",
    "- Web Scraping is an **automatic** way to retrieve data from a website and store them in a structured format.\n",
    "- For example, our intern worked on a project that involves using national level carbon emissions data.\n",
    "    - **Issue**: the emissions database ([Emissions Database for Global Atmospheric Research](https://edgar.jrc.ec.europa.eu/country_profile/AFG)) does not provide a data set of all countries. Instead, they have to download the data set for each country one at a time.\n",
    "    - **Solution**: our intern built a web scraper to automate the downloading process.\n",
    "- There are four main steps\n",
    "    1. Examining the website HTML\n",
    "    2. Access URL of the website using code\n",
    "    3. Parse the HTML contents and extract useful information\n",
    "    4. Format the extracted data and save the data"
   ]
  },
  {
   "cell_type": "code",
   "execution_count": 1,
   "id": "26d2af7b",
   "metadata": {},
   "outputs": [],
   "source": [
    "import bs4\n",
    "import urllib3\n",
    "import certifi\n",
    "import numpy as np\n",
    "import pandas as pd"
   ]
  },
  {
   "cell_type": "markdown",
   "id": "24a7ab0e",
   "metadata": {},
   "source": [
    "We will domonstrate these four steps by scraping the [Aviation Weather Center](https://www.aviationweather.gov/metar?gis=off).  \n",
    "\n",
    "Airports around the country publish hourly weather observations, called METARs. \n",
    "- **What we want:** the weather report that is formatted as plain text in a highly abbreviated syntax. \n",
    "- **Problem:** The web page places the report as a single line of text amidst other elements. \n",
    "- **Goal:** Extract just the weather observation from this page."
   ]
  },
  {
   "cell_type": "markdown",
   "id": "a27a9503",
   "metadata": {},
   "source": [
    "## Step 1: Inspect the website HTML\n",
    "\n",
    "\n",
    "### What is HTML?\n",
    "\n",
    "- HTML stands for Hyper Text Markup Language\n",
    "- HTML describes the **structure** of a Web page\n",
    "- HTML consists of a series of **elements**\n",
    "\n",
    "Below is a visualization of an HTML page structure:\n",
    "\n",
    "```\n",
    "<html>\n",
    "    <head>\n",
    "        <title>Page title</title>\n",
    "    </head>\n",
    "    <body>\n",
    "        <h1>This is a heading </h1>\n",
    "        <p>This is a paragraph.</p>\n",
    "        <p>This is another paragraph.</p>\n",
    "        <a href=\"https://bfi.uchicago.edu/\">This is a link</a>\n",
    "        <table>\n",
    "            <tr>\n",
    "                <th>Column 1</th>\n",
    "                <th>Column 2</th>\n",
    "            </tr>\n",
    "            <tr>\n",
    "                <td>Value 1</td>\n",
    "                <td>Value 2</td>\n",
    "            </tr>\n",
    "        </table> \n",
    "    </body>\n",
    "</html> \n",
    "```\n",
    "\n",
    "It can be very useful to learn more about HTML. However, in most of the case we do not need to understand every element in the HTML file. We can use the **inspect** feature of Google Chrome to locate the element that we want."
   ]
  },
  {
   "cell_type": "markdown",
   "id": "ecf66e16",
   "metadata": {},
   "source": [
    "## Step 2: Access URL of the website using code\n",
    "\n",
    "We need an **HTTP client**, such as `urllib3`, to access the website in Python. We will create a PoolManager **object** to get the HTML of the webpage:"
   ]
  },
  {
   "cell_type": "code",
   "execution_count": 2,
   "id": "b4b84206",
   "metadata": {
    "scrolled": false
   },
   "outputs": [],
   "source": [
    "pm = urllib3.PoolManager(cert_reqs='CERT_REQUIRED', ca_certs=certifi.where())\n",
    "myurl = \"https://www.aviationweather.gov/metar/data?ids=KORD&format=raw&date=0&hours=0\"\n",
    "html = pm.urlopen(url=myurl, method=\"GET\").data\n",
    "# html"
   ]
  },
  {
   "cell_type": "markdown",
   "id": "4940461c",
   "metadata": {},
   "source": [
    "## Step 3: Parse the HTML contents and extract useful information\n",
    "\n",
    "We will use the `BeautifulSoup` class from the `beautifulsoup4` package to parse the HTML file"
   ]
  },
  {
   "cell_type": "code",
   "execution_count": 3,
   "id": "509374c8",
   "metadata": {
    "scrolled": false
   },
   "outputs": [],
   "source": [
    "soup = bs4.BeautifulSoup(html, features='lxml')\n",
    "# soup"
   ]
  },
  {
   "cell_type": "markdown",
   "id": "58942b16",
   "metadata": {},
   "source": [
    "The `BeautifulSoup` class has many attributes and methods that help us navigate the HTML.\n",
    "\n",
    "If you want to get the title of the webpage, you can access the `title` attribute of the `BeautifulSoup` object:"
   ]
  },
  {
   "cell_type": "code",
   "execution_count": 4,
   "id": "59d5ee8b",
   "metadata": {
    "scrolled": true
   },
   "outputs": [
    {
     "name": "stdout",
     "output_type": "stream",
     "text": [
      "<title>AWC - METeorological Aerodrome Reports (METARs)</title>\n",
      "<class 'bs4.element.Tag'>\n"
     ]
    }
   ],
   "source": [
    "print(soup.title)\n",
    "print(type(soup.title))"
   ]
  },
  {
   "cell_type": "markdown",
   "id": "382a0264",
   "metadata": {},
   "source": [
    "Note that the type of `soup.title` is `bs4.element.Tag`, not _string_. We can extract the text by accessing the `text` attribute of a `bs4.element.Tag` object:"
   ]
  },
  {
   "cell_type": "code",
   "execution_count": 5,
   "id": "c34b7756",
   "metadata": {},
   "outputs": [
    {
     "name": "stdout",
     "output_type": "stream",
     "text": [
      "AWC - METeorological Aerodrome Reports (METARs)\n",
      "<class 'str'>\n"
     ]
    }
   ],
   "source": [
    "print(soup.title.text)\n",
    "print(type(soup.title.text))"
   ]
  },
  {
   "cell_type": "markdown",
   "id": "c00817bc",
   "metadata": {},
   "source": [
    "Recall that HTML usually have a hierarchical structure. To access the _parent_ of a element, we can access the `parent` attribute:"
   ]
  },
  {
   "cell_type": "code",
   "execution_count": 6,
   "id": "8e24f535",
   "metadata": {},
   "outputs": [
    {
     "name": "stdout",
     "output_type": "stream",
     "text": [
      "<head>\n",
      "<!--[if lt IE 9]>\n",
      "<meta http-equiv=\"X-UA-Compatible\" content=\"IE=8\" />\n",
      "<![endif]-->\n",
      "<title>AWC - METeorological Aerodrome Reports (METARs)</title>\n",
      "<meta content=\"text/html; charset=utf-8\" http-equiv=\"content-type\"/>\n",
      "<meta content=\"900\" http-equiv=\"Refresh\"/>\n",
      "<meta content=\"en-us\" name=\"DC.language\" scheme=\"DCTERMS.RFC1766\"/>\n",
      "<meta content=\"Aviation Weather Center Homepage provides comprehensive user-friendly aviation weather Text products and graphics.\" name=\"description\"/>\n",
      "<meta content=\"aviation, weather, icing, turbulence, convection, pirep, metar, taf, airmet, sigmet, satellite, radar, surface, wind, temperature, aloft, airplane, NEXRAD, GOES, WSR-88D, precipitation, rain, snow, sleet, thunderstorm, en-route, prognosis, chart\" name=\"keywords\"/>\n",
      "<meta content=\"AWC - Aviation Weather Center\" name=\"DC.title\"/>\n",
      "<meta content=\"Aviation Weather Center Home Page ... METARs Page\" name=\"DC.description\"/>\n",
      "<meta content=\"NOAA's National Weather Service - Aviation Weather Center Homepage\" name=\"DC.creator\"/>\n",
      "<meta content=\"2013-03-15\" name=\"DC.date.created\" scheme=\"ISO8601\"/>\n",
      "<meta content=\"2013-03-15\" name=\"DC.date.reviewed\" scheme=\"ISO8601\"/>\n",
      "<link href=\"//code.jquery.com/ui/1.12.1/themes/smoothness/jquery-ui.css\" media=\"screen\" rel=\"stylesheet\" type=\"text/css\"/>\n",
      "<link href=\"/images/favicon.ico\" rel=\"shortcut icon\"/>\n",
      "<link href=\"/images/noaa_logo.png\" rel=\"apple-touch-icon\"/>\n",
      "<link href=\"/css/layout.css\" media=\"\" rel=\"stylesheet\" type=\"text/css\"/>\n",
      "<script src=\"//code.jquery.com/jquery-3.5.1.js\" type=\"text/javascript\"></script>\n",
      "<script src=\"//code.jquery.com/ui/1.12.1/jquery-ui.js\" type=\"text/javascript\"></script>\n",
      "<script src=\"/javascript/search_auto_comp.js\" type=\"text/javascript\"></script>\n",
      "<script src=\"/javascript/trax.js\" type=\"text/javascript\"></script>\n",
      "<script async=\"true\" id=\"_fed_an_ua_tag\" src=\"https://dap.digitalgov.gov/Universal-Federated-Analytics-Min.js?agency=DOC&amp;subagency=AWC&amp;pua=ua-33523145-2\" type=\"text/javascript\"></script>\n",
      "</head>\n",
      "<class 'bs4.element.Tag'>\n"
     ]
    }
   ],
   "source": [
    "print(soup.title.parent)\n",
    "print(type(soup.title.parent))"
   ]
  },
  {
   "cell_type": "markdown",
   "id": "f1d8e6de",
   "metadata": {},
   "source": [
    "We can extract the first _paragraph element_, which is represented by `<p>... </p>`, by accessing the attribute `p`:"
   ]
  },
  {
   "cell_type": "code",
   "execution_count": 7,
   "id": "b0c2012e",
   "metadata": {},
   "outputs": [
    {
     "data": {
      "text/plain": [
       "<p clear=\"both\">\n",
       "<strong>Data at: 1452 UTC 19 Aug 2022</strong></p>"
      ]
     },
     "execution_count": 7,
     "metadata": {},
     "output_type": "execute_result"
    }
   ],
   "source": [
    "soup.p"
   ]
  },
  {
   "cell_type": "markdown",
   "id": "7a507e58",
   "metadata": {},
   "source": [
    "We can use the `find_all()` method to find all paragraph elements:"
   ]
  },
  {
   "cell_type": "code",
   "execution_count": 8,
   "id": "1359f462",
   "metadata": {},
   "outputs": [
    {
     "name": "stdout",
     "output_type": "stream",
     "text": [
      "Help on method find_all in module bs4.element:\n",
      "\n",
      "find_all(name=None, attrs={}, recursive=True, text=None, limit=None, **kwargs) method of bs4.BeautifulSoup instance\n",
      "    Look in the children of this PageElement and find all\n",
      "    PageElements that match the given criteria.\n",
      "    \n",
      "    All find_* methods take a common set of arguments. See the online\n",
      "    documentation for detailed explanations.\n",
      "    \n",
      "    :param name: A filter on tag name.\n",
      "    :param attrs: A dictionary of filters on attribute values.\n",
      "    :param recursive: If this is True, find_all() will perform a\n",
      "        recursive search of this PageElement's children. Otherwise,\n",
      "        only the direct children will be considered.\n",
      "    :param limit: Stop looking after finding this many results.\n",
      "    :kwargs: A dictionary of filters on attribute values.\n",
      "    :return: A ResultSet of PageElements.\n",
      "    :rtype: bs4.element.ResultSet\n",
      "\n"
     ]
    }
   ],
   "source": [
    "help(soup.find_all)"
   ]
  },
  {
   "cell_type": "code",
   "execution_count": 9,
   "id": "5d3211cb",
   "metadata": {},
   "outputs": [
    {
     "data": {
      "text/plain": [
       "[<p clear=\"both\">\n",
       " <strong>Data at: 1452 UTC 19 Aug 2022</strong></p>,\n",
       " <p style=\"text-align: center; font-size: 10px; color: #1150a0\">\n",
       "     Page loaded: \n",
       "   <a href=\"https://www.time.gov\">14:52 UTC</a>  |  \n",
       "   07:52 AM  Pacific  |  \n",
       "   08:52 AM  Mountain  |  \n",
       "   09:52 AM  Central  |  \n",
       "   10:52 AM  Eastern\n",
       "   </p>]"
      ]
     },
     "execution_count": 9,
     "metadata": {},
     "output_type": "execute_result"
    }
   ],
   "source": [
    "soup.find_all('p')"
   ]
  },
  {
   "cell_type": "markdown",
   "id": "f3f725d2",
   "metadata": {},
   "source": [
    "Or hyperlinks, which are represented by `<a> </a>`:"
   ]
  },
  {
   "cell_type": "code",
   "execution_count": 10,
   "id": "7f882a08",
   "metadata": {
    "scrolled": false
   },
   "outputs": [
    {
     "data": {
      "text/plain": [
       "[<a href=\"https://www.noaa.gov\" title=\"Visit the NOAA website\"><img alt=\"NOAA Logo\" border=\"0\" src=\"/images/layout/noaa_logo.png\"/></a>,\n",
       " <a href=\"https://www.weather.gov\" title=\"Visit the NWS website\"><img alt=\"NWS Logo\" border=\"0\" src=\"/images/layout/nws_logo.png\"/></a>,\n",
       " <a href=\"/\">AVIATION WEATHER CENTER</a>,\n",
       " <a href=\"https://www.noaa.gov\">N O A A</a>,\n",
       " <a href=\"https://www.weather.gov\">N A T I O N A L   W E A T H E R   S E R V I C E</a>,\n",
       " <a href=\"https://www.commerce.gov\">\n",
       " <div class=\"awc_headerright\" title=\"Visit Department of Commerce website\">\n",
       " </div> <!-- /awc_headerright -->\n",
       " </a>,\n",
       " <a href=\"/\">AWC Home</a>,\n",
       " <a href=\"https://www.ncep.noaa.gov/\">NCEP Home</a>,\n",
       " <a href=\"/\">Aviation (AWC)</a>,\n",
       " <a href=\"https://www.cpc.ncep.noaa.gov\">Climate (CPC)</a>]"
      ]
     },
     "execution_count": 10,
     "metadata": {},
     "output_type": "execute_result"
    }
   ],
   "source": [
    "soup.find_all('a')[:10]"
   ]
  },
  {
   "cell_type": "markdown",
   "id": "8fa3679a",
   "metadata": {},
   "source": [
    "We can filter tags by specifying attributes of the tag:"
   ]
  },
  {
   "cell_type": "code",
   "execution_count": 11,
   "id": "5a00f470",
   "metadata": {},
   "outputs": [
    {
     "data": {
      "text/plain": [
       "[<p clear=\"both\">\n",
       " <strong>Data at: 1452 UTC 19 Aug 2022</strong></p>]"
      ]
     },
     "execution_count": 11,
     "metadata": {},
     "output_type": "execute_result"
    }
   ],
   "source": [
    "soup.find_all(\"p\", {\"clear\": \"both\"})"
   ]
  },
  {
   "cell_type": "markdown",
   "id": "10872d17",
   "metadata": {},
   "source": [
    "By examing the webpage, we already know that we want to get the code tag:"
   ]
  },
  {
   "cell_type": "code",
   "execution_count": 12,
   "id": "887db4c2",
   "metadata": {
    "scrolled": true
   },
   "outputs": [
    {
     "data": {
      "text/plain": [
       "[<code>KORD 191351Z 21011KT 10SM FEW150 FEW250 24/15 A2997 RMK AO2 SLP144 T02440150</code>]"
      ]
     },
     "execution_count": 12,
     "metadata": {},
     "output_type": "execute_result"
    }
   ],
   "source": [
    "soup.find_all(\"code\")"
   ]
  },
  {
   "cell_type": "markdown",
   "id": "18c0533a",
   "metadata": {},
   "source": [
    "Note that the `find_all` method will output a _list of Tag objects_, even if there is only one tag. We need to access that Tag object, and then access the `text` attribute of the `Tag` object:"
   ]
  },
  {
   "cell_type": "code",
   "execution_count": 13,
   "id": "8a49babe",
   "metadata": {},
   "outputs": [
    {
     "data": {
      "text/plain": [
       "'KORD 191351Z 21011KT 10SM FEW150 FEW250 24/15 A2997 RMK AO2 SLP144 T02440150'"
      ]
     },
     "execution_count": 13,
     "metadata": {},
     "output_type": "execute_result"
    }
   ],
   "source": [
    "code_tags = soup.find_all(\"code\")\n",
    "weather_code = code_tags[0]\n",
    "weather_code.text"
   ]
  },
  {
   "cell_type": "markdown",
   "id": "a2fb1857",
   "metadata": {},
   "source": [
    "Now, let's put the code we wrote into a function:"
   ]
  },
  {
   "cell_type": "code",
   "execution_count": 14,
   "id": "cb58cc92",
   "metadata": {},
   "outputs": [],
   "source": [
    "def get_current_weather(airport_id):\n",
    "    '''\n",
    "    Get current weather at a specific airport.\n",
    "    \n",
    "    Inputs: \n",
    "        airport_id (str): airport id\n",
    "    \n",
    "    Outputs:\n",
    "        data (str): weather info from the website\n",
    "    '''\n",
    "    \n",
    "    # Step 2: Access URL of the website using code \n",
    "    myurl = \"https://www.aviationweather.gov/metar/data?ids=\" + \\\n",
    "        airport_id + \"&format=raw&date=0&hours=0\"\n",
    "    html = pm.urlopen(url=myurl, method=\"GET\").data\n",
    "    \n",
    "    # Step 3: Parse the HTML contents and extract useful information\n",
    "    soup = bs4.BeautifulSoup(html, features='lxml')\n",
    "    code_tags = soup.find_all(\"code\")\n",
    "    weather_code = code_tags[0]\n",
    "    data = weather_code.text[5:]\n",
    "    \n",
    "    return data"
   ]
  },
  {
   "cell_type": "code",
   "execution_count": 15,
   "id": "be5d68c6",
   "metadata": {},
   "outputs": [
    {
     "data": {
      "text/plain": [
       "'191351Z 21011KT 10SM FEW150 FEW250 24/15 A2997 RMK AO2 SLP144 T02440150'"
      ]
     },
     "execution_count": 15,
     "metadata": {},
     "output_type": "execute_result"
    }
   ],
   "source": [
    "get_current_weather(\"KORD\")"
   ]
  },
  {
   "cell_type": "markdown",
   "id": "8ab9385a",
   "metadata": {},
   "source": [
    "## Step 4: Format the extracted data and save the data"
   ]
  },
  {
   "cell_type": "markdown",
   "id": "9a7f7224",
   "metadata": {},
   "source": [
    "We can now get the weather info from multiple airports very easily:"
   ]
  },
  {
   "cell_type": "code",
   "execution_count": 16,
   "id": "98f3a66a",
   "metadata": {},
   "outputs": [
    {
     "data": {
      "text/html": [
       "<div>\n",
       "<style scoped>\n",
       "    .dataframe tbody tr th:only-of-type {\n",
       "        vertical-align: middle;\n",
       "    }\n",
       "\n",
       "    .dataframe tbody tr th {\n",
       "        vertical-align: top;\n",
       "    }\n",
       "\n",
       "    .dataframe thead th {\n",
       "        text-align: right;\n",
       "    }\n",
       "</style>\n",
       "<table border=\"1\" class=\"dataframe\">\n",
       "  <thead>\n",
       "    <tr style=\"text-align: right;\">\n",
       "      <th></th>\n",
       "      <th>airports</th>\n",
       "      <th>weather</th>\n",
       "    </tr>\n",
       "  </thead>\n",
       "  <tbody>\n",
       "    <tr>\n",
       "      <th>0</th>\n",
       "      <td>KORD</td>\n",
       "      <td>191351Z 21011KT 10SM FEW150 FEW250 24/15 A2997...</td>\n",
       "    </tr>\n",
       "    <tr>\n",
       "      <th>1</th>\n",
       "      <td>KMDW</td>\n",
       "      <td>191353Z 23009KT 10SM FEW060 FEW250 26/16 A2998...</td>\n",
       "    </tr>\n",
       "    <tr>\n",
       "      <th>2</th>\n",
       "      <td>KSFO</td>\n",
       "      <td>191356Z 27008KT 10SM FEW004 BKN008 14/12 A2990...</td>\n",
       "    </tr>\n",
       "    <tr>\n",
       "      <th>3</th>\n",
       "      <td>KLAX</td>\n",
       "      <td>191353Z 24004KT 8SM FEW004 FEW150 18/16 A2984 ...</td>\n",
       "    </tr>\n",
       "    <tr>\n",
       "      <th>4</th>\n",
       "      <td>KATL</td>\n",
       "      <td>191352Z 11006KT 2 1/2SM BR OVC005 23/21 A3004 ...</td>\n",
       "    </tr>\n",
       "  </tbody>\n",
       "</table>\n",
       "</div>"
      ],
      "text/plain": [
       "  airports                                            weather\n",
       "0     KORD  191351Z 21011KT 10SM FEW150 FEW250 24/15 A2997...\n",
       "1     KMDW  191353Z 23009KT 10SM FEW060 FEW250 26/16 A2998...\n",
       "2     KSFO  191356Z 27008KT 10SM FEW004 BKN008 14/12 A2990...\n",
       "3     KLAX  191353Z 24004KT 8SM FEW004 FEW150 18/16 A2984 ...\n",
       "4     KATL  191352Z 11006KT 2 1/2SM BR OVC005 23/21 A3004 ..."
      ]
     },
     "execution_count": 16,
     "metadata": {},
     "output_type": "execute_result"
    }
   ],
   "source": [
    "pm = urllib3.PoolManager(cert_reqs='CERT_REQUIRED',\n",
    "                         ca_certs=certifi.where())\n",
    "\n",
    "airports = [\"KORD\", \"KMDW\", \"KSFO\", \"KLAX\", \"KATL\"]\n",
    "weather = map(get_current_weather, airports)\n",
    "data_dict = {\n",
    "    \"airports\": airports,\n",
    "    \"weather\": weather\n",
    "} \n",
    "df = pd.DataFrame(data_dict)\n",
    "df"
   ]
  },
  {
   "cell_type": "markdown",
   "id": "a1faa80e",
   "metadata": {},
   "source": [
    "## Another Example: Climate Data from Wikipedia\n",
    "\n",
    "Wikiepedia contains climate data for most cities, formatted as a table. For example, see https://en.wikipedia.org/wiki/Chicago#Climate.\n",
    "\n",
    "Our goal is to extract this table from Wikipedia."
   ]
  },
  {
   "cell_type": "markdown",
   "id": "45f3883b",
   "metadata": {},
   "source": [
    "### Step 1: Examining the website HTML\n",
    "\n",
    "Recall that a table in HTML is usually formatted as:\n",
    "\n",
    "```\n",
    "<table>\n",
    "    <tr>\n",
    "        <th>Column 1</th>\n",
    "        <th>Column 2</th>\n",
    "    </tr>\n",
    "    <tr>\n",
    "        <td>Value 1</td>\n",
    "        <td>Value 2</td>\n",
    "    </tr>\n",
    "</table>         \n",
    "```"
   ]
  },
  {
   "cell_type": "markdown",
   "id": "87dcb54e",
   "metadata": {},
   "source": [
    "### Step 2: Access URL of the website using code"
   ]
  },
  {
   "cell_type": "code",
   "execution_count": 17,
   "id": "c6bdeaa0",
   "metadata": {},
   "outputs": [],
   "source": [
    "myurl = \"https://en.wikipedia.org/wiki/chicago\"\n",
    "html = pm.urlopen(url=myurl, method=\"GET\").data"
   ]
  },
  {
   "cell_type": "markdown",
   "id": "6a22cb83",
   "metadata": {},
   "source": [
    "### Step 3: Parse the HTML contents and extract useful information"
   ]
  },
  {
   "cell_type": "markdown",
   "id": "7a02f883",
   "metadata": {},
   "source": [
    "Based on our inspection of the HTML, we can locate the table by finding the table title, which is a `th` tag with `colspan=\"14\"`:"
   ]
  },
  {
   "cell_type": "code",
   "execution_count": 18,
   "id": "d904ab38",
   "metadata": {},
   "outputs": [
    {
     "data": {
      "text/plain": [
       "[<th colspan=\"14\">Climate data for Chicago (Midway Airport), 1991–2020 normals,<sup class=\"reference\" id=\"cite_ref-Strange_field_expl_147-0\"><a href=\"#cite_note-Strange_field_expl-147\">[a]</a></sup> extremes 1928–present\n",
       " </th>,\n",
       " <th colspan=\"14\">Climate data for Chicago (O'Hare Int'l Airport), 1991–2020 normals,<sup class=\"reference\" id=\"cite_ref-Strange_field_expl_147-1\"><a href=\"#cite_note-Strange_field_expl-147\">[a]</a></sup> extremes 1871–present<sup class=\"reference\" id=\"cite_ref-153\"><a href=\"#cite_note-153\">[b]</a></sup>\n",
       " </th>,\n",
       " <th colspan=\"14\">Sunshine data for Chicago\n",
       " </th>,\n",
       " <th colspan=\"14\" style=\"background:#f8f9fa;font-weight:normal;font-size:95%;\">Source: Weather Atlas<sup class=\"reference\" id=\"cite_ref-Weather_Atlas_156-0\"><a href=\"#cite_note-Weather_Atlas-156\">[154]</a></sup>\n",
       " </th>]"
      ]
     },
     "execution_count": 18,
     "metadata": {},
     "output_type": "execute_result"
    }
   ],
   "source": [
    "soup = bs4.BeautifulSoup(html, features='lxml')\n",
    "tag_list = soup.find_all(\"th\", colspan=\"14\")\n",
    "tag_list"
   ]
  },
  {
   "cell_type": "code",
   "execution_count": 19,
   "id": "eafbc5a1",
   "metadata": {},
   "outputs": [
    {
     "data": {
      "text/plain": [
       "'Climate data for Chicago (Midway Airport), 1991–2020 normals,[a] extremes 1928–present\\n'"
      ]
     },
     "execution_count": 19,
     "metadata": {},
     "output_type": "execute_result"
    }
   ],
   "source": [
    "tag_list[0].text"
   ]
  },
  {
   "cell_type": "markdown",
   "id": "34551f7d",
   "metadata": {},
   "source": [
    "We will select the first tag whose first word is \"Climate\":"
   ]
  },
  {
   "cell_type": "code",
   "execution_count": 20,
   "id": "4dee37de",
   "metadata": {},
   "outputs": [
    {
     "data": {
      "text/plain": [
       "'Climate data for Chicago (Midway Airport), 1991–2020 normals,[a] extremes 1928–present\\n'"
      ]
     },
     "execution_count": 20,
     "metadata": {},
     "output_type": "execute_result"
    }
   ],
   "source": [
    "for tag in tag_list:\n",
    "    if tag.text[:7] == \"Climate\":\n",
    "        break\n",
    "tag.text"
   ]
  },
  {
   "cell_type": "markdown",
   "id": "7621bb18",
   "metadata": {},
   "source": [
    "Note that the `table` tag is the _grandparent_ of the current tag:\n",
    "\n",
    "```\n",
    "<table>\n",
    "    <tbody>\n",
    "        <th colspan=\"14\">\n",
    "     \n",
    "```"
   ]
  },
  {
   "cell_type": "code",
   "execution_count": 21,
   "id": "761a0794",
   "metadata": {
    "scrolled": false
   },
   "outputs": [],
   "source": [
    "table_tag = tag.parent.parent\n",
    "# table_tag"
   ]
  },
  {
   "cell_type": "markdown",
   "id": "62431956",
   "metadata": {},
   "source": [
    "Let's first extract all the row headers:"
   ]
  },
  {
   "cell_type": "code",
   "execution_count": 22,
   "id": "4b3c0bc0",
   "metadata": {},
   "outputs": [
    {
     "data": {
      "text/plain": [
       "[<th scope=\"row\">Month\n",
       " </th>,\n",
       " <th scope=\"row\" style=\"height: 16px;\">Record high °F (°C)\n",
       " </th>,\n",
       " <th scope=\"row\" style=\"height: 16px;\">Mean maximum °F (°C)\n",
       " </th>,\n",
       " <th scope=\"row\" style=\"height: 16px;\">Average high °F (°C)\n",
       " </th>,\n",
       " <th scope=\"row\" style=\"height: 16px;\">Daily mean °F (°C)\n",
       " </th>,\n",
       " <th scope=\"row\" style=\"height: 16px;\">Average low °F (°C)\n",
       " </th>,\n",
       " <th scope=\"row\" style=\"height: 16px;\">Mean minimum °F (°C)\n",
       " </th>,\n",
       " <th scope=\"row\" style=\"height: 16px;\">Record low °F (°C)\n",
       " </th>,\n",
       " <th scope=\"row\" style=\"height: 16px;\">Average <a href=\"/wiki/Precipitation\" title=\"Precipitation\">precipitation</a> inches (mm)\n",
       " </th>,\n",
       " <th scope=\"row\" style=\"height: 16px;\">Average snowfall inches (cm)\n",
       " </th>,\n",
       " <th scope=\"row\" style=\"height: 16px;\">Average precipitation days <span class=\"nowrap\" style=\"font-size:90%;\">(≥ 0.01 in)</span>\n",
       " </th>,\n",
       " <th scope=\"row\" style=\"height: 16px;\">Average snowy days <span class=\"nowrap\" style=\"font-size:90%;\">(≥ 0.1 in)</span>\n",
       " </th>,\n",
       " <th scope=\"row\" style=\"height: 16px;\">Average <a href=\"/wiki/Ultraviolet_index\" title=\"Ultraviolet index\">ultraviolet index</a>\n",
       " </th>]"
      ]
     },
     "execution_count": 22,
     "metadata": {},
     "output_type": "execute_result"
    }
   ],
   "source": [
    "table_tag.find_all(\"th\", scope=\"row\")"
   ]
  },
  {
   "cell_type": "markdown",
   "id": "48bc227a",
   "metadata": {},
   "source": [
    "Get the text of tags and store in a list:"
   ]
  },
  {
   "cell_type": "code",
   "execution_count": 23,
   "id": "122aa1cf",
   "metadata": {},
   "outputs": [
    {
     "data": {
      "text/plain": [
       "['Month\\n',\n",
       " 'Record high °F (°C)\\n',\n",
       " 'Mean maximum °F (°C)\\n',\n",
       " 'Average high °F (°C)\\n',\n",
       " 'Daily mean °F (°C)\\n',\n",
       " 'Average low °F (°C)\\n',\n",
       " 'Mean minimum °F (°C)\\n',\n",
       " 'Record low °F (°C)\\n',\n",
       " 'Average precipitation inches (mm)\\n',\n",
       " 'Average snowfall inches (cm)\\n',\n",
       " 'Average precipitation days (≥ 0.01 in)\\n',\n",
       " 'Average snowy days (≥ 0.1 in)\\n',\n",
       " 'Average ultraviolet index\\n']"
      ]
     },
     "execution_count": 23,
     "metadata": {},
     "output_type": "execute_result"
    }
   ],
   "source": [
    "row_names = [row.text for row in table_tag.find_all(\"th\", scope=\"row\")]\n",
    "row_names"
   ]
  },
  {
   "cell_type": "code",
   "execution_count": 24,
   "id": "51661fba",
   "metadata": {},
   "outputs": [
    {
     "data": {
      "text/plain": [
       "['Record high °F (°C)',\n",
       " 'Mean maximum °F (°C)',\n",
       " 'Average high °F (°C)',\n",
       " 'Daily mean °F (°C)',\n",
       " 'Average low °F (°C)',\n",
       " 'Mean minimum °F (°C)',\n",
       " 'Record low °F (°C)',\n",
       " 'Average precipitation inches (mm)',\n",
       " 'Average snowfall inches (cm)',\n",
       " 'Average precipitation days (≥ 0.01 in)',\n",
       " 'Average snowy days (≥ 0.1 in)',\n",
       " 'Average ultraviolet index']"
      ]
     },
     "execution_count": 24,
     "metadata": {},
     "output_type": "execute_result"
    }
   ],
   "source": [
    "row_names = [row.text[:-1] for row in table_tag.find_all(\"th\", scope=\"row\")][1:]\n",
    "row_names"
   ]
  },
  {
   "cell_type": "markdown",
   "id": "7d48f08a",
   "metadata": {},
   "source": [
    "Then, do the same thing for column headers:"
   ]
  },
  {
   "cell_type": "code",
   "execution_count": 25,
   "id": "36acaa15",
   "metadata": {},
   "outputs": [
    {
     "data": {
      "text/plain": [
       "[<th scope=\"col\">Jan\n",
       " </th>,\n",
       " <th scope=\"col\">Feb\n",
       " </th>,\n",
       " <th scope=\"col\">Mar\n",
       " </th>,\n",
       " <th scope=\"col\">Apr\n",
       " </th>,\n",
       " <th scope=\"col\">May\n",
       " </th>,\n",
       " <th scope=\"col\">Jun\n",
       " </th>,\n",
       " <th scope=\"col\">Jul\n",
       " </th>,\n",
       " <th scope=\"col\">Aug\n",
       " </th>,\n",
       " <th scope=\"col\">Sep\n",
       " </th>,\n",
       " <th scope=\"col\">Oct\n",
       " </th>,\n",
       " <th scope=\"col\">Nov\n",
       " </th>,\n",
       " <th scope=\"col\">Dec\n",
       " </th>,\n",
       " <th scope=\"col\" style=\"border-left-width:medium\">Year\n",
       " </th>]"
      ]
     },
     "execution_count": 25,
     "metadata": {},
     "output_type": "execute_result"
    }
   ],
   "source": [
    "table_tag.find_all(\"th\", scope=\"col\")"
   ]
  },
  {
   "cell_type": "code",
   "execution_count": 26,
   "id": "53e7ce6b",
   "metadata": {},
   "outputs": [
    {
     "data": {
      "text/plain": [
       "['Jan',\n",
       " 'Feb',\n",
       " 'Mar',\n",
       " 'Apr',\n",
       " 'May',\n",
       " 'Jun',\n",
       " 'Jul',\n",
       " 'Aug',\n",
       " 'Sep',\n",
       " 'Oct',\n",
       " 'Nov',\n",
       " 'Dec',\n",
       " 'Year']"
      ]
     },
     "execution_count": 26,
     "metadata": {},
     "output_type": "execute_result"
    }
   ],
   "source": [
    "col_names = [col.text[:-1] for col in table_tag.find_all(\"th\", scope=\"col\")]\n",
    "col_names"
   ]
  },
  {
   "cell_type": "markdown",
   "id": "a8f4308b",
   "metadata": {},
   "source": [
    "Finally, let's extract values:"
   ]
  },
  {
   "cell_type": "code",
   "execution_count": 27,
   "id": "2ef9d2cb",
   "metadata": {
    "scrolled": false
   },
   "outputs": [
    {
     "data": {
      "text/plain": [
       "[<td style=\"background: #FF9B37; color:#000000;\">67<br/>(19)\n",
       " </td>,\n",
       " <td style=\"background: #FF7800; color:#000000;\">75<br/>(24)\n",
       " </td>,\n",
       " <td style=\"background: #FF4F00; color:#000000;\">86<br/>(30)\n",
       " </td>,\n",
       " <td style=\"background: #FF3A00; color:#000000;\">92<br/>(33)\n",
       " </td>,\n",
       " <td style=\"background: #FF1100; color:#FFFFFF;\">102<br/>(39)\n",
       " </td>,\n",
       " <td style=\"background: #F80000; color:#FFFFFF;\">107<br/>(42)\n",
       " </td>,\n",
       " <td style=\"background: #EA0000; color:#FFFFFF;\">109<br/>(43)\n",
       " </td>,\n",
       " <td style=\"background: #FF0A00; color:#FFFFFF;\">104<br/>(40)\n",
       " </td>,\n",
       " <td style=\"background: #FF1100; color:#FFFFFF;\">102<br/>(39)\n",
       " </td>,\n",
       " <td style=\"background: #FF3300; color:#000000;\">94<br/>(34)\n",
       " </td>]"
      ]
     },
     "execution_count": 27,
     "metadata": {},
     "output_type": "execute_result"
    }
   ],
   "source": [
    "table_tag.find_all(\"td\")[:10]"
   ]
  },
  {
   "cell_type": "code",
   "execution_count": 28,
   "id": "2b954c02",
   "metadata": {},
   "outputs": [
    {
     "data": {
      "text/plain": [
       "[<td style=\"background: #FF9B37; color:#000000;\">67<br/>(19)\n",
       " </td>,\n",
       " <td style=\"background: #FF7800; color:#000000;\">75<br/>(24)\n",
       " </td>,\n",
       " <td style=\"background: #FF4F00; color:#000000;\">86<br/>(30)\n",
       " </td>,\n",
       " <td style=\"background: #FF3A00; color:#000000;\">92<br/>(33)\n",
       " </td>,\n",
       " <td style=\"background: #FF1100; color:#FFFFFF;\">102<br/>(39)\n",
       " </td>,\n",
       " <td style=\"background: #F80000; color:#FFFFFF;\">107<br/>(42)\n",
       " </td>,\n",
       " <td style=\"background: #EA0000; color:#FFFFFF;\">109<br/>(43)\n",
       " </td>,\n",
       " <td style=\"background: #FF0A00; color:#FFFFFF;\">104<br/>(40)\n",
       " </td>,\n",
       " <td style=\"background: #FF1100; color:#FFFFFF;\">102<br/>(39)\n",
       " </td>,\n",
       " <td style=\"background: #FF3300; color:#000000;\">94<br/>(34)\n",
       " </td>]"
      ]
     },
     "execution_count": 28,
     "metadata": {},
     "output_type": "execute_result"
    }
   ],
   "source": [
    "value_tags = table_tag.find_all(\"td\")[:len(row_names)*len(col_names)]\n",
    "value_tags[:10]"
   ]
  },
  {
   "cell_type": "code",
   "execution_count": 29,
   "id": "97e45db2",
   "metadata": {},
   "outputs": [
    {
     "data": {
      "text/plain": [
       "['67(19)', '75(24)', '86(30)', '92(33)', '102(39)']"
      ]
     },
     "execution_count": 29,
     "metadata": {},
     "output_type": "execute_result"
    }
   ],
   "source": [
    "data = [value.text[:-1] for value in value_tags]\n",
    "data[:5]"
   ]
  },
  {
   "cell_type": "markdown",
   "id": "1d15bf53",
   "metadata": {},
   "source": [
    "Let's only keep the values in the Imperial Units and then convert these strings to numbers:"
   ]
  },
  {
   "cell_type": "code",
   "execution_count": 30,
   "id": "1cc3044e",
   "metadata": {},
   "outputs": [],
   "source": [
    "# for i, text in enumerate(data):\n",
    "#     text = text.split(\"(\")[0]\n",
    "#     data[i] = float(text)\n",
    "    \n",
    "# ValueError: could not convert string to float: '−3'"
   ]
  },
  {
   "cell_type": "code",
   "execution_count": 31,
   "id": "933be535",
   "metadata": {},
   "outputs": [
    {
     "name": "stdout",
     "output_type": "stream",
     "text": [
      "[67.0, 75.0, 86.0, 92.0, 102.0, 107.0, 109.0, 104.0, 102.0, 94.0, 81.0, 72.0, 109.0, 53.4, 57.9, 72.0, 81.5, 89.2, 93.9, 96.0, 94.2, 90.8, 82.8, 68.0, 57.5, 97.1, 32.8, 36.8, 47.9, 60.0, 71.5, 81.2, 85.2, 83.1, 76.5, 63.7, 49.6, 37.7, 60.5, 26.2, 29.9, 39.9, 50.9, 61.9, 71.9, 76.7, 75.0, 67.8, 55.3, 42.4, 31.5, 52.4, 19.5, 22.9, 32.0, 41.7, 52.4, 62.7, 68.1, 66.9, 59.2, 46.8, 35.2, 25.3, 44.4, -3.0, 3.4, 14.1, 28.2, 39.1, 49.3, 58.6, 57.6, 45.0, 31.8, 19.7, 5.3, -6.5, -25.0, -20.0, -7.0, 10.0, 28.0, 35.0, 46.0, 43.0, 29.0, 20.0, -3.0, -20.0, -25.0, 2.3, 2.12, 2.66, 4.15, 4.75, 4.53, 4.02, 4.1, 3.33, 3.86, 2.73, 2.33, 40.88, 12.5, 10.1, 5.7, 1.0, 0.0, 0.0, 0.0, 0.0, 0.0, 0.1, 1.5, 7.9, 38.8, 11.5, 9.4, 11.1, 12.0, 12.4, 11.1, 10.0, 9.3, 8.4, 10.8, 10.2, 10.8, 127.0, 8.9, 6.4, 3.9, 0.9, 0.0, 0.0, 0.0, 0.0, 0.0, 0.2, 1.6, 6.3, 28.2, 1.0, 2.0, 4.0, 6.0, 7.0, 9.0, 9.0, 8.0, 6.0, 4.0, 2.0, 1.0, 5.0]\n"
     ]
    }
   ],
   "source": [
    "data = [value.text[:-1] for value in value_tags]\n",
    "for i, text in enumerate(data):\n",
    "    text = text.split(\"(\")[0]\n",
    "    text = text.replace(\"−\", \"-\")\n",
    "    data[i] = float(text)\n",
    "    \n",
    "print(data)"
   ]
  },
  {
   "cell_type": "markdown",
   "id": "4785dfbc",
   "metadata": {},
   "source": [
    "### Step 4: Format the extracted data and save it"
   ]
  },
  {
   "cell_type": "code",
   "execution_count": 32,
   "id": "cc751572",
   "metadata": {},
   "outputs": [
    {
     "data": {
      "text/html": [
       "<div>\n",
       "<style scoped>\n",
       "    .dataframe tbody tr th:only-of-type {\n",
       "        vertical-align: middle;\n",
       "    }\n",
       "\n",
       "    .dataframe tbody tr th {\n",
       "        vertical-align: top;\n",
       "    }\n",
       "\n",
       "    .dataframe thead th {\n",
       "        text-align: right;\n",
       "    }\n",
       "</style>\n",
       "<table border=\"1\" class=\"dataframe\">\n",
       "  <thead>\n",
       "    <tr style=\"text-align: right;\">\n",
       "      <th></th>\n",
       "      <th>Jan</th>\n",
       "      <th>Feb</th>\n",
       "      <th>Mar</th>\n",
       "      <th>Apr</th>\n",
       "      <th>May</th>\n",
       "      <th>Jun</th>\n",
       "      <th>Jul</th>\n",
       "      <th>Aug</th>\n",
       "      <th>Sep</th>\n",
       "      <th>Oct</th>\n",
       "      <th>Nov</th>\n",
       "      <th>Dec</th>\n",
       "      <th>Year</th>\n",
       "    </tr>\n",
       "  </thead>\n",
       "  <tbody>\n",
       "    <tr>\n",
       "      <th>Record high °F (°C)</th>\n",
       "      <td>67.0</td>\n",
       "      <td>75.00</td>\n",
       "      <td>86.00</td>\n",
       "      <td>92.00</td>\n",
       "      <td>102.00</td>\n",
       "      <td>107.00</td>\n",
       "      <td>109.00</td>\n",
       "      <td>104.0</td>\n",
       "      <td>102.00</td>\n",
       "      <td>94.00</td>\n",
       "      <td>81.00</td>\n",
       "      <td>72.00</td>\n",
       "      <td>109.00</td>\n",
       "    </tr>\n",
       "    <tr>\n",
       "      <th>Mean maximum °F (°C)</th>\n",
       "      <td>53.4</td>\n",
       "      <td>57.90</td>\n",
       "      <td>72.00</td>\n",
       "      <td>81.50</td>\n",
       "      <td>89.20</td>\n",
       "      <td>93.90</td>\n",
       "      <td>96.00</td>\n",
       "      <td>94.2</td>\n",
       "      <td>90.80</td>\n",
       "      <td>82.80</td>\n",
       "      <td>68.00</td>\n",
       "      <td>57.50</td>\n",
       "      <td>97.10</td>\n",
       "    </tr>\n",
       "    <tr>\n",
       "      <th>Average high °F (°C)</th>\n",
       "      <td>32.8</td>\n",
       "      <td>36.80</td>\n",
       "      <td>47.90</td>\n",
       "      <td>60.00</td>\n",
       "      <td>71.50</td>\n",
       "      <td>81.20</td>\n",
       "      <td>85.20</td>\n",
       "      <td>83.1</td>\n",
       "      <td>76.50</td>\n",
       "      <td>63.70</td>\n",
       "      <td>49.60</td>\n",
       "      <td>37.70</td>\n",
       "      <td>60.50</td>\n",
       "    </tr>\n",
       "    <tr>\n",
       "      <th>Daily mean °F (°C)</th>\n",
       "      <td>26.2</td>\n",
       "      <td>29.90</td>\n",
       "      <td>39.90</td>\n",
       "      <td>50.90</td>\n",
       "      <td>61.90</td>\n",
       "      <td>71.90</td>\n",
       "      <td>76.70</td>\n",
       "      <td>75.0</td>\n",
       "      <td>67.80</td>\n",
       "      <td>55.30</td>\n",
       "      <td>42.40</td>\n",
       "      <td>31.50</td>\n",
       "      <td>52.40</td>\n",
       "    </tr>\n",
       "    <tr>\n",
       "      <th>Average low °F (°C)</th>\n",
       "      <td>19.5</td>\n",
       "      <td>22.90</td>\n",
       "      <td>32.00</td>\n",
       "      <td>41.70</td>\n",
       "      <td>52.40</td>\n",
       "      <td>62.70</td>\n",
       "      <td>68.10</td>\n",
       "      <td>66.9</td>\n",
       "      <td>59.20</td>\n",
       "      <td>46.80</td>\n",
       "      <td>35.20</td>\n",
       "      <td>25.30</td>\n",
       "      <td>44.40</td>\n",
       "    </tr>\n",
       "    <tr>\n",
       "      <th>Mean minimum °F (°C)</th>\n",
       "      <td>-3.0</td>\n",
       "      <td>3.40</td>\n",
       "      <td>14.10</td>\n",
       "      <td>28.20</td>\n",
       "      <td>39.10</td>\n",
       "      <td>49.30</td>\n",
       "      <td>58.60</td>\n",
       "      <td>57.6</td>\n",
       "      <td>45.00</td>\n",
       "      <td>31.80</td>\n",
       "      <td>19.70</td>\n",
       "      <td>5.30</td>\n",
       "      <td>-6.50</td>\n",
       "    </tr>\n",
       "    <tr>\n",
       "      <th>Record low °F (°C)</th>\n",
       "      <td>-25.0</td>\n",
       "      <td>-20.00</td>\n",
       "      <td>-7.00</td>\n",
       "      <td>10.00</td>\n",
       "      <td>28.00</td>\n",
       "      <td>35.00</td>\n",
       "      <td>46.00</td>\n",
       "      <td>43.0</td>\n",
       "      <td>29.00</td>\n",
       "      <td>20.00</td>\n",
       "      <td>-3.00</td>\n",
       "      <td>-20.00</td>\n",
       "      <td>-25.00</td>\n",
       "    </tr>\n",
       "    <tr>\n",
       "      <th>Average precipitation inches (mm)</th>\n",
       "      <td>2.3</td>\n",
       "      <td>2.12</td>\n",
       "      <td>2.66</td>\n",
       "      <td>4.15</td>\n",
       "      <td>4.75</td>\n",
       "      <td>4.53</td>\n",
       "      <td>4.02</td>\n",
       "      <td>4.1</td>\n",
       "      <td>3.33</td>\n",
       "      <td>3.86</td>\n",
       "      <td>2.73</td>\n",
       "      <td>2.33</td>\n",
       "      <td>40.88</td>\n",
       "    </tr>\n",
       "    <tr>\n",
       "      <th>Average snowfall inches (cm)</th>\n",
       "      <td>12.5</td>\n",
       "      <td>10.10</td>\n",
       "      <td>5.70</td>\n",
       "      <td>1.00</td>\n",
       "      <td>0.00</td>\n",
       "      <td>0.00</td>\n",
       "      <td>0.00</td>\n",
       "      <td>0.0</td>\n",
       "      <td>0.00</td>\n",
       "      <td>0.10</td>\n",
       "      <td>1.50</td>\n",
       "      <td>7.90</td>\n",
       "      <td>38.80</td>\n",
       "    </tr>\n",
       "    <tr>\n",
       "      <th>Average precipitation days (≥ 0.01 in)</th>\n",
       "      <td>11.5</td>\n",
       "      <td>9.40</td>\n",
       "      <td>11.10</td>\n",
       "      <td>12.00</td>\n",
       "      <td>12.40</td>\n",
       "      <td>11.10</td>\n",
       "      <td>10.00</td>\n",
       "      <td>9.3</td>\n",
       "      <td>8.40</td>\n",
       "      <td>10.80</td>\n",
       "      <td>10.20</td>\n",
       "      <td>10.80</td>\n",
       "      <td>127.00</td>\n",
       "    </tr>\n",
       "    <tr>\n",
       "      <th>Average snowy days (≥ 0.1 in)</th>\n",
       "      <td>8.9</td>\n",
       "      <td>6.40</td>\n",
       "      <td>3.90</td>\n",
       "      <td>0.90</td>\n",
       "      <td>0.00</td>\n",
       "      <td>0.00</td>\n",
       "      <td>0.00</td>\n",
       "      <td>0.0</td>\n",
       "      <td>0.00</td>\n",
       "      <td>0.20</td>\n",
       "      <td>1.60</td>\n",
       "      <td>6.30</td>\n",
       "      <td>28.20</td>\n",
       "    </tr>\n",
       "    <tr>\n",
       "      <th>Average ultraviolet index</th>\n",
       "      <td>1.0</td>\n",
       "      <td>2.00</td>\n",
       "      <td>4.00</td>\n",
       "      <td>6.00</td>\n",
       "      <td>7.00</td>\n",
       "      <td>9.00</td>\n",
       "      <td>9.00</td>\n",
       "      <td>8.0</td>\n",
       "      <td>6.00</td>\n",
       "      <td>4.00</td>\n",
       "      <td>2.00</td>\n",
       "      <td>1.00</td>\n",
       "      <td>5.00</td>\n",
       "    </tr>\n",
       "  </tbody>\n",
       "</table>\n",
       "</div>"
      ],
      "text/plain": [
       "                                         Jan    Feb    Mar    Apr     May  \\\n",
       "Record high °F (°C)                     67.0  75.00  86.00  92.00  102.00   \n",
       "Mean maximum °F (°C)                    53.4  57.90  72.00  81.50   89.20   \n",
       "Average high °F (°C)                    32.8  36.80  47.90  60.00   71.50   \n",
       "Daily mean °F (°C)                      26.2  29.90  39.90  50.90   61.90   \n",
       "Average low °F (°C)                     19.5  22.90  32.00  41.70   52.40   \n",
       "Mean minimum °F (°C)                    -3.0   3.40  14.10  28.20   39.10   \n",
       "Record low °F (°C)                     -25.0 -20.00  -7.00  10.00   28.00   \n",
       "Average precipitation inches (mm)        2.3   2.12   2.66   4.15    4.75   \n",
       "Average snowfall inches (cm)            12.5  10.10   5.70   1.00    0.00   \n",
       "Average precipitation days (≥ 0.01 in)  11.5   9.40  11.10  12.00   12.40   \n",
       "Average snowy days (≥ 0.1 in)            8.9   6.40   3.90   0.90    0.00   \n",
       "Average ultraviolet index                1.0   2.00   4.00   6.00    7.00   \n",
       "\n",
       "                                           Jun     Jul    Aug     Sep    Oct  \\\n",
       "Record high °F (°C)                     107.00  109.00  104.0  102.00  94.00   \n",
       "Mean maximum °F (°C)                     93.90   96.00   94.2   90.80  82.80   \n",
       "Average high °F (°C)                     81.20   85.20   83.1   76.50  63.70   \n",
       "Daily mean °F (°C)                       71.90   76.70   75.0   67.80  55.30   \n",
       "Average low °F (°C)                      62.70   68.10   66.9   59.20  46.80   \n",
       "Mean minimum °F (°C)                     49.30   58.60   57.6   45.00  31.80   \n",
       "Record low °F (°C)                       35.00   46.00   43.0   29.00  20.00   \n",
       "Average precipitation inches (mm)         4.53    4.02    4.1    3.33   3.86   \n",
       "Average snowfall inches (cm)              0.00    0.00    0.0    0.00   0.10   \n",
       "Average precipitation days (≥ 0.01 in)   11.10   10.00    9.3    8.40  10.80   \n",
       "Average snowy days (≥ 0.1 in)             0.00    0.00    0.0    0.00   0.20   \n",
       "Average ultraviolet index                 9.00    9.00    8.0    6.00   4.00   \n",
       "\n",
       "                                          Nov    Dec    Year  \n",
       "Record high °F (°C)                     81.00  72.00  109.00  \n",
       "Mean maximum °F (°C)                    68.00  57.50   97.10  \n",
       "Average high °F (°C)                    49.60  37.70   60.50  \n",
       "Daily mean °F (°C)                      42.40  31.50   52.40  \n",
       "Average low °F (°C)                     35.20  25.30   44.40  \n",
       "Mean minimum °F (°C)                    19.70   5.30   -6.50  \n",
       "Record low °F (°C)                      -3.00 -20.00  -25.00  \n",
       "Average precipitation inches (mm)        2.73   2.33   40.88  \n",
       "Average snowfall inches (cm)             1.50   7.90   38.80  \n",
       "Average precipitation days (≥ 0.01 in)  10.20  10.80  127.00  \n",
       "Average snowy days (≥ 0.1 in)            1.60   6.30   28.20  \n",
       "Average ultraviolet index                2.00   1.00    5.00  "
      ]
     },
     "execution_count": 32,
     "metadata": {},
     "output_type": "execute_result"
    }
   ],
   "source": [
    "data = np.array(data).reshape(len(row_names), len(col_names))\n",
    "df = pd.DataFrame(data, columns=col_names, index=row_names)\n",
    "df"
   ]
  },
  {
   "cell_type": "markdown",
   "id": "1479d3c4",
   "metadata": {},
   "source": [
    "Let's write a function that takes a city name as input and output a climate table:"
   ]
  },
  {
   "cell_type": "code",
   "execution_count": 33,
   "id": "023d5863",
   "metadata": {},
   "outputs": [],
   "source": [
    "def get_climate_from_wiki(city):\n",
    "    '''\n",
    "    Get the climate table from wikipedia if available\n",
    "    \n",
    "    Inputs: \n",
    "        city (str)\n",
    "    \n",
    "    Outputs:\n",
    "        df (pandas.DataFrame): climate table\n",
    "    '''\n",
    "    \n",
    "    # Step 2: Access URL of the website using code\n",
    "    city = city.replace(\" \", \"_\")\n",
    "    myurl = f\"https://en.wikipedia.org/wiki/{city}\"\n",
    "    html = pm.urlopen(url=myurl, method=\"GET\").data\n",
    "    \n",
    "    \n",
    "    # Step 3: Parse the HTML contents and extract useful information\n",
    "    soup = bs4.BeautifulSoup(html, features='lxml')\n",
    "    tag_list = soup.find_all(\"th\", colspan=\"14\")\n",
    "    try:\n",
    "        table_tag = tag_list[0].parent.parent\n",
    "        row_names = [row.text[:-1] for row in table_tag.find_all(\"th\", scope=\"row\")][1:]\n",
    "        col_names = [col.text[:-1] for col in table_tag.find_all(\"th\", scope=\"col\")]\n",
    "        value_tags = table_tag.find_all(\"td\")[:len(row_names)*len(col_names)]\n",
    "        data = [value.text[:-1] for value in value_tags]\n",
    "        for i, text in enumerate(data):\n",
    "            text = text.split(\"(\")[0]\n",
    "            text = text.replace(\"−\", \"-\")\n",
    "            text = text.replace(\",\", \"\")\n",
    "            data[i] = float(text)\n",
    "            \n",
    "        # Step 4: Format the extracted data and save it into a structured format\n",
    "        data = np.array(data).reshape(len(row_names), len(col_names))\n",
    "        df = pd.DataFrame(data, columns=col_names, index=row_names)\n",
    "        \n",
    "    except IndexError:\n",
    "        return None\n",
    "\n",
    "    return df"
   ]
  },
  {
   "cell_type": "code",
   "execution_count": 34,
   "id": "0edf20b6",
   "metadata": {},
   "outputs": [
    {
     "data": {
      "text/html": [
       "<div>\n",
       "<style scoped>\n",
       "    .dataframe tbody tr th:only-of-type {\n",
       "        vertical-align: middle;\n",
       "    }\n",
       "\n",
       "    .dataframe tbody tr th {\n",
       "        vertical-align: top;\n",
       "    }\n",
       "\n",
       "    .dataframe thead th {\n",
       "        text-align: right;\n",
       "    }\n",
       "</style>\n",
       "<table border=\"1\" class=\"dataframe\">\n",
       "  <thead>\n",
       "    <tr style=\"text-align: right;\">\n",
       "      <th></th>\n",
       "      <th>Jan</th>\n",
       "      <th>Feb</th>\n",
       "      <th>Mar</th>\n",
       "      <th>Apr</th>\n",
       "      <th>May</th>\n",
       "      <th>Jun</th>\n",
       "      <th>Jul</th>\n",
       "      <th>Aug</th>\n",
       "      <th>Sep</th>\n",
       "      <th>Oct</th>\n",
       "      <th>Nov</th>\n",
       "      <th>Dec</th>\n",
       "      <th>Year</th>\n",
       "    </tr>\n",
       "  </thead>\n",
       "  <tbody>\n",
       "    <tr>\n",
       "      <th>Record high °F (°C)</th>\n",
       "      <td>79.0</td>\n",
       "      <td>81.00</td>\n",
       "      <td>87.00</td>\n",
       "      <td>94.0</td>\n",
       "      <td>97.0</td>\n",
       "      <td>103.0</td>\n",
       "      <td>98.00</td>\n",
       "      <td>98.00</td>\n",
       "      <td>106.0</td>\n",
       "      <td>102.00</td>\n",
       "      <td>86.0</td>\n",
       "      <td>76.00</td>\n",
       "      <td>106.00</td>\n",
       "    </tr>\n",
       "    <tr>\n",
       "      <th>Mean maximum °F (°C)</th>\n",
       "      <td>67.1</td>\n",
       "      <td>71.80</td>\n",
       "      <td>76.40</td>\n",
       "      <td>80.7</td>\n",
       "      <td>81.4</td>\n",
       "      <td>84.6</td>\n",
       "      <td>80.50</td>\n",
       "      <td>83.40</td>\n",
       "      <td>90.8</td>\n",
       "      <td>87.90</td>\n",
       "      <td>75.8</td>\n",
       "      <td>66.40</td>\n",
       "      <td>94.00</td>\n",
       "    </tr>\n",
       "    <tr>\n",
       "      <th>Average high °F (°C)</th>\n",
       "      <td>57.8</td>\n",
       "      <td>60.40</td>\n",
       "      <td>62.10</td>\n",
       "      <td>63.0</td>\n",
       "      <td>64.1</td>\n",
       "      <td>66.5</td>\n",
       "      <td>66.30</td>\n",
       "      <td>67.90</td>\n",
       "      <td>70.2</td>\n",
       "      <td>69.80</td>\n",
       "      <td>63.7</td>\n",
       "      <td>57.90</td>\n",
       "      <td>64.10</td>\n",
       "    </tr>\n",
       "    <tr>\n",
       "      <th>Daily mean °F (°C)</th>\n",
       "      <td>52.2</td>\n",
       "      <td>54.20</td>\n",
       "      <td>55.50</td>\n",
       "      <td>56.4</td>\n",
       "      <td>57.8</td>\n",
       "      <td>59.7</td>\n",
       "      <td>60.30</td>\n",
       "      <td>61.70</td>\n",
       "      <td>62.9</td>\n",
       "      <td>62.10</td>\n",
       "      <td>57.2</td>\n",
       "      <td>52.50</td>\n",
       "      <td>57.70</td>\n",
       "    </tr>\n",
       "    <tr>\n",
       "      <th>Average low °F (°C)</th>\n",
       "      <td>46.6</td>\n",
       "      <td>47.90</td>\n",
       "      <td>48.90</td>\n",
       "      <td>49.7</td>\n",
       "      <td>51.4</td>\n",
       "      <td>53.0</td>\n",
       "      <td>54.40</td>\n",
       "      <td>55.50</td>\n",
       "      <td>55.6</td>\n",
       "      <td>54.40</td>\n",
       "      <td>50.7</td>\n",
       "      <td>47.00</td>\n",
       "      <td>51.30</td>\n",
       "    </tr>\n",
       "    <tr>\n",
       "      <th>Mean minimum °F (°C)</th>\n",
       "      <td>40.5</td>\n",
       "      <td>42.00</td>\n",
       "      <td>43.70</td>\n",
       "      <td>45.0</td>\n",
       "      <td>48.0</td>\n",
       "      <td>50.1</td>\n",
       "      <td>51.60</td>\n",
       "      <td>52.90</td>\n",
       "      <td>52.0</td>\n",
       "      <td>49.90</td>\n",
       "      <td>44.9</td>\n",
       "      <td>40.70</td>\n",
       "      <td>38.80</td>\n",
       "    </tr>\n",
       "    <tr>\n",
       "      <th>Record low °F (°C)</th>\n",
       "      <td>29.0</td>\n",
       "      <td>31.00</td>\n",
       "      <td>33.00</td>\n",
       "      <td>40.0</td>\n",
       "      <td>42.0</td>\n",
       "      <td>46.0</td>\n",
       "      <td>47.00</td>\n",
       "      <td>46.00</td>\n",
       "      <td>47.0</td>\n",
       "      <td>43.00</td>\n",
       "      <td>38.0</td>\n",
       "      <td>27.00</td>\n",
       "      <td>27.00</td>\n",
       "    </tr>\n",
       "    <tr>\n",
       "      <th>Average precipitation inches (mm)</th>\n",
       "      <td>4.4</td>\n",
       "      <td>4.37</td>\n",
       "      <td>3.15</td>\n",
       "      <td>1.6</td>\n",
       "      <td>0.7</td>\n",
       "      <td>0.2</td>\n",
       "      <td>0.01</td>\n",
       "      <td>0.06</td>\n",
       "      <td>0.1</td>\n",
       "      <td>0.94</td>\n",
       "      <td>2.6</td>\n",
       "      <td>4.76</td>\n",
       "      <td>22.89</td>\n",
       "    </tr>\n",
       "    <tr>\n",
       "      <th>Average precipitation days (≥ 0.01 in)</th>\n",
       "      <td>11.2</td>\n",
       "      <td>10.80</td>\n",
       "      <td>10.80</td>\n",
       "      <td>6.8</td>\n",
       "      <td>4.0</td>\n",
       "      <td>1.6</td>\n",
       "      <td>0.70</td>\n",
       "      <td>1.10</td>\n",
       "      <td>1.2</td>\n",
       "      <td>3.50</td>\n",
       "      <td>7.9</td>\n",
       "      <td>11.60</td>\n",
       "      <td>71.20</td>\n",
       "    </tr>\n",
       "    <tr>\n",
       "      <th>Average relative humidity (%)</th>\n",
       "      <td>80.0</td>\n",
       "      <td>77.00</td>\n",
       "      <td>75.00</td>\n",
       "      <td>72.0</td>\n",
       "      <td>72.0</td>\n",
       "      <td>71.0</td>\n",
       "      <td>75.00</td>\n",
       "      <td>75.00</td>\n",
       "      <td>73.0</td>\n",
       "      <td>71.00</td>\n",
       "      <td>75.0</td>\n",
       "      <td>78.00</td>\n",
       "      <td>75.00</td>\n",
       "    </tr>\n",
       "    <tr>\n",
       "      <th>Mean monthly sunshine hours</th>\n",
       "      <td>185.9</td>\n",
       "      <td>207.70</td>\n",
       "      <td>269.10</td>\n",
       "      <td>309.3</td>\n",
       "      <td>325.1</td>\n",
       "      <td>311.4</td>\n",
       "      <td>313.30</td>\n",
       "      <td>287.40</td>\n",
       "      <td>271.4</td>\n",
       "      <td>247.10</td>\n",
       "      <td>173.4</td>\n",
       "      <td>160.60</td>\n",
       "      <td>3061.70</td>\n",
       "    </tr>\n",
       "    <tr>\n",
       "      <th>Percent possible sunshine</th>\n",
       "      <td>61.0</td>\n",
       "      <td>69.00</td>\n",
       "      <td>73.00</td>\n",
       "      <td>78.0</td>\n",
       "      <td>74.0</td>\n",
       "      <td>70.0</td>\n",
       "      <td>70.00</td>\n",
       "      <td>68.00</td>\n",
       "      <td>73.0</td>\n",
       "      <td>71.00</td>\n",
       "      <td>57.0</td>\n",
       "      <td>54.00</td>\n",
       "      <td>69.00</td>\n",
       "    </tr>\n",
       "    <tr>\n",
       "      <th>Average ultraviolet index</th>\n",
       "      <td>3.0</td>\n",
       "      <td>3.00</td>\n",
       "      <td>4.00</td>\n",
       "      <td>5.0</td>\n",
       "      <td>4.0</td>\n",
       "      <td>5.0</td>\n",
       "      <td>5.00</td>\n",
       "      <td>5.00</td>\n",
       "      <td>5.0</td>\n",
       "      <td>4.00</td>\n",
       "      <td>3.0</td>\n",
       "      <td>3.00</td>\n",
       "      <td>4.00</td>\n",
       "    </tr>\n",
       "  </tbody>\n",
       "</table>\n",
       "</div>"
      ],
      "text/plain": [
       "                                          Jan     Feb     Mar    Apr    May  \\\n",
       "Record high °F (°C)                      79.0   81.00   87.00   94.0   97.0   \n",
       "Mean maximum °F (°C)                     67.1   71.80   76.40   80.7   81.4   \n",
       "Average high °F (°C)                     57.8   60.40   62.10   63.0   64.1   \n",
       "Daily mean °F (°C)                       52.2   54.20   55.50   56.4   57.8   \n",
       "Average low °F (°C)                      46.6   47.90   48.90   49.7   51.4   \n",
       "Mean minimum °F (°C)                     40.5   42.00   43.70   45.0   48.0   \n",
       "Record low °F (°C)                       29.0   31.00   33.00   40.0   42.0   \n",
       "Average precipitation inches (mm)         4.4    4.37    3.15    1.6    0.7   \n",
       "Average precipitation days (≥ 0.01 in)   11.2   10.80   10.80    6.8    4.0   \n",
       "Average relative humidity (%)            80.0   77.00   75.00   72.0   72.0   \n",
       "Mean monthly sunshine hours             185.9  207.70  269.10  309.3  325.1   \n",
       "Percent possible sunshine                61.0   69.00   73.00   78.0   74.0   \n",
       "Average ultraviolet index                 3.0    3.00    4.00    5.0    4.0   \n",
       "\n",
       "                                          Jun     Jul     Aug    Sep     Oct  \\\n",
       "Record high °F (°C)                     103.0   98.00   98.00  106.0  102.00   \n",
       "Mean maximum °F (°C)                     84.6   80.50   83.40   90.8   87.90   \n",
       "Average high °F (°C)                     66.5   66.30   67.90   70.2   69.80   \n",
       "Daily mean °F (°C)                       59.7   60.30   61.70   62.9   62.10   \n",
       "Average low °F (°C)                      53.0   54.40   55.50   55.6   54.40   \n",
       "Mean minimum °F (°C)                     50.1   51.60   52.90   52.0   49.90   \n",
       "Record low °F (°C)                       46.0   47.00   46.00   47.0   43.00   \n",
       "Average precipitation inches (mm)         0.2    0.01    0.06    0.1    0.94   \n",
       "Average precipitation days (≥ 0.01 in)    1.6    0.70    1.10    1.2    3.50   \n",
       "Average relative humidity (%)            71.0   75.00   75.00   73.0   71.00   \n",
       "Mean monthly sunshine hours             311.4  313.30  287.40  271.4  247.10   \n",
       "Percent possible sunshine                70.0   70.00   68.00   73.0   71.00   \n",
       "Average ultraviolet index                 5.0    5.00    5.00    5.0    4.00   \n",
       "\n",
       "                                          Nov     Dec     Year  \n",
       "Record high °F (°C)                      86.0   76.00   106.00  \n",
       "Mean maximum °F (°C)                     75.8   66.40    94.00  \n",
       "Average high °F (°C)                     63.7   57.90    64.10  \n",
       "Daily mean °F (°C)                       57.2   52.50    57.70  \n",
       "Average low °F (°C)                      50.7   47.00    51.30  \n",
       "Mean minimum °F (°C)                     44.9   40.70    38.80  \n",
       "Record low °F (°C)                       38.0   27.00    27.00  \n",
       "Average precipitation inches (mm)         2.6    4.76    22.89  \n",
       "Average precipitation days (≥ 0.01 in)    7.9   11.60    71.20  \n",
       "Average relative humidity (%)            75.0   78.00    75.00  \n",
       "Mean monthly sunshine hours             173.4  160.60  3061.70  \n",
       "Percent possible sunshine                57.0   54.00    69.00  \n",
       "Average ultraviolet index                 3.0    3.00     4.00  "
      ]
     },
     "execution_count": 34,
     "metadata": {},
     "output_type": "execute_result"
    }
   ],
   "source": [
    "get_climate_from_wiki(\"San Francisco\")"
   ]
  },
  {
   "cell_type": "code",
   "execution_count": 35,
   "id": "98da5473",
   "metadata": {},
   "outputs": [],
   "source": [
    "city_list = [\"New York\", \"Boston\", \"San Francisco\", \"Paris\", \"London\", \"Tokyo\", \"Beijing\", \"New Delhi\"]\n",
    "df_list = list(map(get_climate_from_wiki, city_list))\n",
    "df_dict = dict(zip(city_list, df_list))"
   ]
  },
  {
   "cell_type": "code",
   "execution_count": 36,
   "id": "5cda98b8",
   "metadata": {},
   "outputs": [
    {
     "data": {
      "text/html": [
       "<div>\n",
       "<style scoped>\n",
       "    .dataframe tbody tr th:only-of-type {\n",
       "        vertical-align: middle;\n",
       "    }\n",
       "\n",
       "    .dataframe tbody tr th {\n",
       "        vertical-align: top;\n",
       "    }\n",
       "\n",
       "    .dataframe thead th {\n",
       "        text-align: right;\n",
       "    }\n",
       "</style>\n",
       "<table border=\"1\" class=\"dataframe\">\n",
       "  <thead>\n",
       "    <tr style=\"text-align: right;\">\n",
       "      <th></th>\n",
       "      <th>Jan</th>\n",
       "      <th>Feb</th>\n",
       "      <th>Mar</th>\n",
       "      <th>Apr</th>\n",
       "      <th>May</th>\n",
       "      <th>Jun</th>\n",
       "      <th>Jul</th>\n",
       "      <th>Aug</th>\n",
       "      <th>Sep</th>\n",
       "      <th>Oct</th>\n",
       "      <th>Nov</th>\n",
       "      <th>Dec</th>\n",
       "      <th>Year</th>\n",
       "    </tr>\n",
       "  </thead>\n",
       "  <tbody>\n",
       "    <tr>\n",
       "      <th>Record high °C (°F)</th>\n",
       "      <td>14.3</td>\n",
       "      <td>25.6</td>\n",
       "      <td>29.5</td>\n",
       "      <td>33.5</td>\n",
       "      <td>41.1</td>\n",
       "      <td>40.6</td>\n",
       "      <td>41.9</td>\n",
       "      <td>38.3</td>\n",
       "      <td>35.0</td>\n",
       "      <td>31.0</td>\n",
       "      <td>23.3</td>\n",
       "      <td>19.5</td>\n",
       "      <td>41.9</td>\n",
       "    </tr>\n",
       "    <tr>\n",
       "      <th>Average high °C (°F)</th>\n",
       "      <td>2.1</td>\n",
       "      <td>5.8</td>\n",
       "      <td>12.6</td>\n",
       "      <td>20.7</td>\n",
       "      <td>26.9</td>\n",
       "      <td>30.5</td>\n",
       "      <td>31.5</td>\n",
       "      <td>30.5</td>\n",
       "      <td>26.2</td>\n",
       "      <td>19.4</td>\n",
       "      <td>10.3</td>\n",
       "      <td>3.8</td>\n",
       "      <td>18.4</td>\n",
       "    </tr>\n",
       "    <tr>\n",
       "      <th>Daily mean °C (°F)</th>\n",
       "      <td>-2.9</td>\n",
       "      <td>0.4</td>\n",
       "      <td>7.0</td>\n",
       "      <td>14.9</td>\n",
       "      <td>21.0</td>\n",
       "      <td>25.0</td>\n",
       "      <td>26.9</td>\n",
       "      <td>25.8</td>\n",
       "      <td>20.8</td>\n",
       "      <td>13.8</td>\n",
       "      <td>5.1</td>\n",
       "      <td>-0.9</td>\n",
       "      <td>13.1</td>\n",
       "    </tr>\n",
       "    <tr>\n",
       "      <th>Average low °C (°F)</th>\n",
       "      <td>-7.1</td>\n",
       "      <td>-4.3</td>\n",
       "      <td>1.6</td>\n",
       "      <td>8.9</td>\n",
       "      <td>14.9</td>\n",
       "      <td>19.8</td>\n",
       "      <td>22.7</td>\n",
       "      <td>21.7</td>\n",
       "      <td>16.0</td>\n",
       "      <td>8.8</td>\n",
       "      <td>0.6</td>\n",
       "      <td>-4.9</td>\n",
       "      <td>8.2</td>\n",
       "    </tr>\n",
       "    <tr>\n",
       "      <th>Record low °C (°F)</th>\n",
       "      <td>-22.8</td>\n",
       "      <td>-27.4</td>\n",
       "      <td>-15.0</td>\n",
       "      <td>-3.2</td>\n",
       "      <td>2.5</td>\n",
       "      <td>9.8</td>\n",
       "      <td>15.3</td>\n",
       "      <td>11.4</td>\n",
       "      <td>3.7</td>\n",
       "      <td>-3.5</td>\n",
       "      <td>-12.3</td>\n",
       "      <td>-18.3</td>\n",
       "      <td>-27.4</td>\n",
       "    </tr>\n",
       "    <tr>\n",
       "      <th>Average precipitation mm (inches)</th>\n",
       "      <td>2.7</td>\n",
       "      <td>5.0</td>\n",
       "      <td>10.2</td>\n",
       "      <td>23.1</td>\n",
       "      <td>39.0</td>\n",
       "      <td>76.7</td>\n",
       "      <td>168.8</td>\n",
       "      <td>120.2</td>\n",
       "      <td>57.4</td>\n",
       "      <td>24.1</td>\n",
       "      <td>13.1</td>\n",
       "      <td>2.4</td>\n",
       "      <td>542.7</td>\n",
       "    </tr>\n",
       "    <tr>\n",
       "      <th>Average precipitation days (≥ 0.1 mm)</th>\n",
       "      <td>1.8</td>\n",
       "      <td>2.3</td>\n",
       "      <td>3.3</td>\n",
       "      <td>4.7</td>\n",
       "      <td>6.1</td>\n",
       "      <td>9.9</td>\n",
       "      <td>12.8</td>\n",
       "      <td>10.9</td>\n",
       "      <td>7.6</td>\n",
       "      <td>4.8</td>\n",
       "      <td>2.9</td>\n",
       "      <td>2.0</td>\n",
       "      <td>69.1</td>\n",
       "    </tr>\n",
       "    <tr>\n",
       "      <th>Average relative humidity (%)</th>\n",
       "      <td>44.0</td>\n",
       "      <td>43.0</td>\n",
       "      <td>41.0</td>\n",
       "      <td>43.0</td>\n",
       "      <td>49.0</td>\n",
       "      <td>59.0</td>\n",
       "      <td>70.0</td>\n",
       "      <td>72.0</td>\n",
       "      <td>65.0</td>\n",
       "      <td>58.0</td>\n",
       "      <td>54.0</td>\n",
       "      <td>47.0</td>\n",
       "      <td>54.0</td>\n",
       "    </tr>\n",
       "    <tr>\n",
       "      <th>Mean monthly sunshine hours</th>\n",
       "      <td>186.2</td>\n",
       "      <td>188.1</td>\n",
       "      <td>227.5</td>\n",
       "      <td>242.8</td>\n",
       "      <td>267.6</td>\n",
       "      <td>225.6</td>\n",
       "      <td>194.5</td>\n",
       "      <td>208.2</td>\n",
       "      <td>207.5</td>\n",
       "      <td>205.2</td>\n",
       "      <td>174.5</td>\n",
       "      <td>172.3</td>\n",
       "      <td>2500.0</td>\n",
       "    </tr>\n",
       "    <tr>\n",
       "      <th>Percent possible sunshine</th>\n",
       "      <td>65.0</td>\n",
       "      <td>65.0</td>\n",
       "      <td>63.0</td>\n",
       "      <td>64.0</td>\n",
       "      <td>64.0</td>\n",
       "      <td>59.0</td>\n",
       "      <td>47.0</td>\n",
       "      <td>52.0</td>\n",
       "      <td>63.0</td>\n",
       "      <td>64.0</td>\n",
       "      <td>62.0</td>\n",
       "      <td>62.0</td>\n",
       "      <td>60.0</td>\n",
       "    </tr>\n",
       "    <tr>\n",
       "      <th>Average ultraviolet index</th>\n",
       "      <td>2.0</td>\n",
       "      <td>3.0</td>\n",
       "      <td>4.0</td>\n",
       "      <td>6.0</td>\n",
       "      <td>8.0</td>\n",
       "      <td>9.0</td>\n",
       "      <td>9.0</td>\n",
       "      <td>8.0</td>\n",
       "      <td>6.0</td>\n",
       "      <td>4.0</td>\n",
       "      <td>2.0</td>\n",
       "      <td>1.0</td>\n",
       "      <td>5.0</td>\n",
       "    </tr>\n",
       "  </tbody>\n",
       "</table>\n",
       "</div>"
      ],
      "text/plain": [
       "                                         Jan    Feb    Mar    Apr    May  \\\n",
       "Record high °C (°F)                     14.3   25.6   29.5   33.5   41.1   \n",
       "Average high °C (°F)                     2.1    5.8   12.6   20.7   26.9   \n",
       "Daily mean °C (°F)                      -2.9    0.4    7.0   14.9   21.0   \n",
       "Average low °C (°F)                     -7.1   -4.3    1.6    8.9   14.9   \n",
       "Record low °C (°F)                     -22.8  -27.4  -15.0   -3.2    2.5   \n",
       "Average precipitation mm (inches)        2.7    5.0   10.2   23.1   39.0   \n",
       "Average precipitation days (≥ 0.1 mm)    1.8    2.3    3.3    4.7    6.1   \n",
       "Average relative humidity (%)           44.0   43.0   41.0   43.0   49.0   \n",
       "Mean monthly sunshine hours            186.2  188.1  227.5  242.8  267.6   \n",
       "Percent possible sunshine               65.0   65.0   63.0   64.0   64.0   \n",
       "Average ultraviolet index                2.0    3.0    4.0    6.0    8.0   \n",
       "\n",
       "                                         Jun    Jul    Aug    Sep    Oct  \\\n",
       "Record high °C (°F)                     40.6   41.9   38.3   35.0   31.0   \n",
       "Average high °C (°F)                    30.5   31.5   30.5   26.2   19.4   \n",
       "Daily mean °C (°F)                      25.0   26.9   25.8   20.8   13.8   \n",
       "Average low °C (°F)                     19.8   22.7   21.7   16.0    8.8   \n",
       "Record low °C (°F)                       9.8   15.3   11.4    3.7   -3.5   \n",
       "Average precipitation mm (inches)       76.7  168.8  120.2   57.4   24.1   \n",
       "Average precipitation days (≥ 0.1 mm)    9.9   12.8   10.9    7.6    4.8   \n",
       "Average relative humidity (%)           59.0   70.0   72.0   65.0   58.0   \n",
       "Mean monthly sunshine hours            225.6  194.5  208.2  207.5  205.2   \n",
       "Percent possible sunshine               59.0   47.0   52.0   63.0   64.0   \n",
       "Average ultraviolet index                9.0    9.0    8.0    6.0    4.0   \n",
       "\n",
       "                                         Nov    Dec    Year  \n",
       "Record high °C (°F)                     23.3   19.5    41.9  \n",
       "Average high °C (°F)                    10.3    3.8    18.4  \n",
       "Daily mean °C (°F)                       5.1   -0.9    13.1  \n",
       "Average low °C (°F)                      0.6   -4.9     8.2  \n",
       "Record low °C (°F)                     -12.3  -18.3   -27.4  \n",
       "Average precipitation mm (inches)       13.1    2.4   542.7  \n",
       "Average precipitation days (≥ 0.1 mm)    2.9    2.0    69.1  \n",
       "Average relative humidity (%)           54.0   47.0    54.0  \n",
       "Mean monthly sunshine hours            174.5  172.3  2500.0  \n",
       "Percent possible sunshine               62.0   62.0    60.0  \n",
       "Average ultraviolet index                2.0    1.0     5.0  "
      ]
     },
     "execution_count": 36,
     "metadata": {},
     "output_type": "execute_result"
    }
   ],
   "source": [
    "df_dict[\"Beijing\"]"
   ]
  },
  {
   "cell_type": "code",
   "execution_count": 37,
   "id": "92bfacdd",
   "metadata": {},
   "outputs": [
    {
     "data": {
      "text/html": [
       "<div>\n",
       "<style scoped>\n",
       "    .dataframe tbody tr th:only-of-type {\n",
       "        vertical-align: middle;\n",
       "    }\n",
       "\n",
       "    .dataframe tbody tr th {\n",
       "        vertical-align: top;\n",
       "    }\n",
       "\n",
       "    .dataframe thead th {\n",
       "        text-align: right;\n",
       "    }\n",
       "</style>\n",
       "<table border=\"1\" class=\"dataframe\">\n",
       "  <thead>\n",
       "    <tr style=\"text-align: right;\">\n",
       "      <th></th>\n",
       "      <th>Jan</th>\n",
       "      <th>Feb</th>\n",
       "      <th>Mar</th>\n",
       "      <th>Apr</th>\n",
       "      <th>May</th>\n",
       "      <th>Jun</th>\n",
       "      <th>Jul</th>\n",
       "      <th>Aug</th>\n",
       "      <th>Sep</th>\n",
       "      <th>Oct</th>\n",
       "      <th>Nov</th>\n",
       "      <th>Dec</th>\n",
       "      <th>Year</th>\n",
       "    </tr>\n",
       "  </thead>\n",
       "  <tbody>\n",
       "    <tr>\n",
       "      <th>Record high °C (°F)</th>\n",
       "      <td>16.1</td>\n",
       "      <td>21.4</td>\n",
       "      <td>26.0</td>\n",
       "      <td>30.2</td>\n",
       "      <td>34.8</td>\n",
       "      <td>37.6</td>\n",
       "      <td>42.6</td>\n",
       "      <td>39.5</td>\n",
       "      <td>36.2</td>\n",
       "      <td>28.9</td>\n",
       "      <td>21.6</td>\n",
       "      <td>17.1</td>\n",
       "      <td>42.6</td>\n",
       "    </tr>\n",
       "    <tr>\n",
       "      <th>Average high °C (°F)</th>\n",
       "      <td>7.6</td>\n",
       "      <td>8.8</td>\n",
       "      <td>12.8</td>\n",
       "      <td>16.6</td>\n",
       "      <td>20.2</td>\n",
       "      <td>23.4</td>\n",
       "      <td>25.7</td>\n",
       "      <td>25.6</td>\n",
       "      <td>21.5</td>\n",
       "      <td>16.5</td>\n",
       "      <td>11.1</td>\n",
       "      <td>8.0</td>\n",
       "      <td>16.5</td>\n",
       "    </tr>\n",
       "    <tr>\n",
       "      <th>Daily mean °C (°F)</th>\n",
       "      <td>5.4</td>\n",
       "      <td>6.0</td>\n",
       "      <td>9.2</td>\n",
       "      <td>12.2</td>\n",
       "      <td>15.6</td>\n",
       "      <td>18.8</td>\n",
       "      <td>20.9</td>\n",
       "      <td>20.8</td>\n",
       "      <td>17.2</td>\n",
       "      <td>13.2</td>\n",
       "      <td>8.7</td>\n",
       "      <td>5.9</td>\n",
       "      <td>12.8</td>\n",
       "    </tr>\n",
       "    <tr>\n",
       "      <th>Average low °C (°F)</th>\n",
       "      <td>3.2</td>\n",
       "      <td>3.3</td>\n",
       "      <td>5.6</td>\n",
       "      <td>7.9</td>\n",
       "      <td>11.1</td>\n",
       "      <td>14.2</td>\n",
       "      <td>16.2</td>\n",
       "      <td>16.0</td>\n",
       "      <td>13.0</td>\n",
       "      <td>9.9</td>\n",
       "      <td>6.2</td>\n",
       "      <td>3.8</td>\n",
       "      <td>9.2</td>\n",
       "    </tr>\n",
       "    <tr>\n",
       "      <th>Record low °C (°F)</th>\n",
       "      <td>-14.6</td>\n",
       "      <td>-14.7</td>\n",
       "      <td>-9.1</td>\n",
       "      <td>-3.5</td>\n",
       "      <td>-0.1</td>\n",
       "      <td>3.1</td>\n",
       "      <td>6.0</td>\n",
       "      <td>6.3</td>\n",
       "      <td>1.8</td>\n",
       "      <td>-3.8</td>\n",
       "      <td>-14.0</td>\n",
       "      <td>-23.9</td>\n",
       "      <td>-23.9</td>\n",
       "    </tr>\n",
       "    <tr>\n",
       "      <th>Average precipitation mm (inches)</th>\n",
       "      <td>47.6</td>\n",
       "      <td>41.8</td>\n",
       "      <td>45.2</td>\n",
       "      <td>45.8</td>\n",
       "      <td>69.0</td>\n",
       "      <td>51.3</td>\n",
       "      <td>59.4</td>\n",
       "      <td>58.0</td>\n",
       "      <td>44.7</td>\n",
       "      <td>55.2</td>\n",
       "      <td>54.3</td>\n",
       "      <td>62.0</td>\n",
       "      <td>634.3</td>\n",
       "    </tr>\n",
       "    <tr>\n",
       "      <th>Average precipitation days (≥ 1.0 mm)</th>\n",
       "      <td>9.9</td>\n",
       "      <td>9.1</td>\n",
       "      <td>9.5</td>\n",
       "      <td>8.6</td>\n",
       "      <td>9.2</td>\n",
       "      <td>8.3</td>\n",
       "      <td>7.4</td>\n",
       "      <td>8.1</td>\n",
       "      <td>7.5</td>\n",
       "      <td>9.5</td>\n",
       "      <td>10.4</td>\n",
       "      <td>11.4</td>\n",
       "      <td>108.9</td>\n",
       "    </tr>\n",
       "    <tr>\n",
       "      <th>Average snowy days</th>\n",
       "      <td>3.0</td>\n",
       "      <td>3.9</td>\n",
       "      <td>1.6</td>\n",
       "      <td>0.6</td>\n",
       "      <td>0.0</td>\n",
       "      <td>0.0</td>\n",
       "      <td>0.0</td>\n",
       "      <td>0.0</td>\n",
       "      <td>0.0</td>\n",
       "      <td>0.0</td>\n",
       "      <td>0.7</td>\n",
       "      <td>2.1</td>\n",
       "      <td>11.9</td>\n",
       "    </tr>\n",
       "    <tr>\n",
       "      <th>Average relative humidity (%)</th>\n",
       "      <td>83.0</td>\n",
       "      <td>78.0</td>\n",
       "      <td>73.0</td>\n",
       "      <td>69.0</td>\n",
       "      <td>70.0</td>\n",
       "      <td>69.0</td>\n",
       "      <td>68.0</td>\n",
       "      <td>71.0</td>\n",
       "      <td>76.0</td>\n",
       "      <td>82.0</td>\n",
       "      <td>84.0</td>\n",
       "      <td>84.0</td>\n",
       "      <td>76.0</td>\n",
       "    </tr>\n",
       "    <tr>\n",
       "      <th>Mean monthly sunshine hours</th>\n",
       "      <td>59.0</td>\n",
       "      <td>83.7</td>\n",
       "      <td>134.9</td>\n",
       "      <td>177.3</td>\n",
       "      <td>201.0</td>\n",
       "      <td>203.5</td>\n",
       "      <td>222.4</td>\n",
       "      <td>215.3</td>\n",
       "      <td>174.7</td>\n",
       "      <td>118.6</td>\n",
       "      <td>69.8</td>\n",
       "      <td>56.9</td>\n",
       "      <td>1717.0</td>\n",
       "    </tr>\n",
       "    <tr>\n",
       "      <th>Average ultraviolet index</th>\n",
       "      <td>1.0</td>\n",
       "      <td>2.0</td>\n",
       "      <td>3.0</td>\n",
       "      <td>4.0</td>\n",
       "      <td>6.0</td>\n",
       "      <td>7.0</td>\n",
       "      <td>7.0</td>\n",
       "      <td>6.0</td>\n",
       "      <td>4.0</td>\n",
       "      <td>3.0</td>\n",
       "      <td>1.0</td>\n",
       "      <td>1.0</td>\n",
       "      <td>4.0</td>\n",
       "    </tr>\n",
       "  </tbody>\n",
       "</table>\n",
       "</div>"
      ],
      "text/plain": [
       "                                        Jan   Feb    Mar    Apr    May    Jun  \\\n",
       "Record high °C (°F)                    16.1  21.4   26.0   30.2   34.8   37.6   \n",
       "Average high °C (°F)                    7.6   8.8   12.8   16.6   20.2   23.4   \n",
       "Daily mean °C (°F)                      5.4   6.0    9.2   12.2   15.6   18.8   \n",
       "Average low °C (°F)                     3.2   3.3    5.6    7.9   11.1   14.2   \n",
       "Record low °C (°F)                    -14.6 -14.7   -9.1   -3.5   -0.1    3.1   \n",
       "Average precipitation mm (inches)      47.6  41.8   45.2   45.8   69.0   51.3   \n",
       "Average precipitation days (≥ 1.0 mm)   9.9   9.1    9.5    8.6    9.2    8.3   \n",
       "Average snowy days                      3.0   3.9    1.6    0.6    0.0    0.0   \n",
       "Average relative humidity (%)          83.0  78.0   73.0   69.0   70.0   69.0   \n",
       "Mean monthly sunshine hours            59.0  83.7  134.9  177.3  201.0  203.5   \n",
       "Average ultraviolet index               1.0   2.0    3.0    4.0    6.0    7.0   \n",
       "\n",
       "                                         Jul    Aug    Sep    Oct   Nov   Dec  \\\n",
       "Record high °C (°F)                     42.6   39.5   36.2   28.9  21.6  17.1   \n",
       "Average high °C (°F)                    25.7   25.6   21.5   16.5  11.1   8.0   \n",
       "Daily mean °C (°F)                      20.9   20.8   17.2   13.2   8.7   5.9   \n",
       "Average low °C (°F)                     16.2   16.0   13.0    9.9   6.2   3.8   \n",
       "Record low °C (°F)                       6.0    6.3    1.8   -3.8 -14.0 -23.9   \n",
       "Average precipitation mm (inches)       59.4   58.0   44.7   55.2  54.3  62.0   \n",
       "Average precipitation days (≥ 1.0 mm)    7.4    8.1    7.5    9.5  10.4  11.4   \n",
       "Average snowy days                       0.0    0.0    0.0    0.0   0.7   2.1   \n",
       "Average relative humidity (%)           68.0   71.0   76.0   82.0  84.0  84.0   \n",
       "Mean monthly sunshine hours            222.4  215.3  174.7  118.6  69.8  56.9   \n",
       "Average ultraviolet index                7.0    6.0    4.0    3.0   1.0   1.0   \n",
       "\n",
       "                                         Year  \n",
       "Record high °C (°F)                      42.6  \n",
       "Average high °C (°F)                     16.5  \n",
       "Daily mean °C (°F)                       12.8  \n",
       "Average low °C (°F)                       9.2  \n",
       "Record low °C (°F)                      -23.9  \n",
       "Average precipitation mm (inches)       634.3  \n",
       "Average precipitation days (≥ 1.0 mm)   108.9  \n",
       "Average snowy days                       11.9  \n",
       "Average relative humidity (%)            76.0  \n",
       "Mean monthly sunshine hours            1717.0  \n",
       "Average ultraviolet index                 4.0  "
      ]
     },
     "execution_count": 37,
     "metadata": {},
     "output_type": "execute_result"
    }
   ],
   "source": [
    "df_dict[\"Paris\"]"
   ]
  },
  {
   "cell_type": "markdown",
   "id": "ea48ddd4",
   "metadata": {},
   "source": [
    "---"
   ]
  },
  {
   "cell_type": "markdown",
   "id": "df83a0a3",
   "metadata": {},
   "source": [
    "We chose these two websites as examples because they are easy to scrape: all the data we need are already stored in the HTML file so that we can access them directly. Unfortunately, this is not true for many other websites, and that's when we need **Selenium** for more complex web scraping tasks."
   ]
  },
  {
   "cell_type": "markdown",
   "id": "f4adf049",
   "metadata": {},
   "source": [
    "## Reference\n",
    "\n",
    "- CMSC 12200: https://www.classes.cs.uchicago.edu/archive/2019/winter/12200-1/labs/lab1/index.html\n",
    "- HTML: https://www.w3schools.com/html/html_attributes.asp\n",
    "- urllib3: https://pypi.org/project/urllib3/\n",
    "- Beautiful Soup: https://beautiful-soup-4.readthedocs.io/en/latest/"
   ]
  }
 ],
 "metadata": {
  "kernelspec": {
   "display_name": "Python 3",
   "language": "python",
   "name": "python3"
  },
  "language_info": {
   "codemirror_mode": {
    "name": "ipython",
    "version": 3
   },
   "file_extension": ".py",
   "mimetype": "text/x-python",
   "name": "python",
   "nbconvert_exporter": "python",
   "pygments_lexer": "ipython3",
   "version": "3.8.8"
  }
 },
 "nbformat": 4,
 "nbformat_minor": 5
}
